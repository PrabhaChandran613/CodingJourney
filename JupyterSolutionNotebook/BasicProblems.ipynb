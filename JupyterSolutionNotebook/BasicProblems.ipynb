{
 "cells": [
  {
   "cell_type": "code",
   "execution_count": 3,
   "metadata": {},
   "outputs": [
    {
     "name": "stdout",
     "output_type": "stream",
     "text": [
      "Searching between l=0 and h=5, mid=2\n",
      "Searching between l=3 and h=5, mid=4\n",
      "Found key at index: 4\n",
      "Key found at index: 4\n"
     ]
    }
   ],
   "source": [
    "int arr[] = {3, 3, 1, 2, 3, 3};\n",
    "int n = arr.length;\n",
    "int key = 3;\n",
    "\n",
    "// Call the search method from the class\n",
    "int result = GFG.search(arr, 0, n - 1, key);\n",
    "if(result != -1)\n",
    "    System.out.println(\"Key found at index: \" + result); \n",
    "else\n",
    "    System.out.println(\"Key not found\"); \n"
   ]
  },
  {
   "cell_type": "code",
   "execution_count": 2,
   "metadata": {},
   "outputs": [],
   "source": [
    "public class GFG {\n",
    "    // Function to return the index of the key in arr[l..h]\n",
    "    // if the key is present otherwise return -1\n",
    "    public static int search(int arr[], int l, int h, int key) {\n",
    "        if (l > h)\n",
    "            return -1;\n",
    "\n",
    "        int mid = l + (h - l) / 2;\n",
    "        System.out.println(\"Searching between l=\" + l + \" and h=\" + h + \", mid=\" + mid);\n",
    "\n",
    "        if (arr[mid] == key) {\n",
    "            System.out.println(\"Found key at index: \" + mid);\n",
    "            return mid;\n",
    "        }\n",
    "\n",
    "        if ((arr[l] == arr[mid]) && (arr[h] == arr[mid])) {\n",
    "            l++;\n",
    "            h--;\n",
    "            return search(arr, l, h, key);\n",
    "        }\n",
    "\n",
    "        else if (arr[l] <= arr[mid]) {\n",
    "            if (key >= arr[l] && key <= arr[mid]) {\n",
    "                return search(arr, l, mid - 1, key);\n",
    "            } else {\n",
    "                return search(arr, mid + 1, h, key);\n",
    "            }\n",
    "        }\n",
    "\n",
    "        else if (key >= arr[mid] && key <= arr[h])\n",
    "            return search(arr, mid + 1, h, key);\n",
    "\n",
    "        return search(arr, l, mid - 1, key);\n",
    "    }\n",
    "}\n"
   ]
  },
  {
   "cell_type": "markdown",
   "metadata": {},
   "source": [
    "Problem Statement No.: 1  \n",
    "Problem Description: \n",
    "Input:\n",
    "Output:\n",
    "Constraints:\n",
    "Goal of the code: summarize the main objective in one sentence.\n",
    "Approach:\n",
    "Pseudocode/Algorithm:\n",
    "Time and Space Complexity:\n",
    "additional notes/hints:(optional)"
   ]
  }
 ],
 "metadata": {
  "kernelspec": {
   "display_name": "Java",
   "language": "java",
   "name": "java"
  },
  "language_info": {
   "codemirror_mode": "java",
   "file_extension": ".jshell",
   "mimetype": "text/x-java-source",
   "name": "java",
   "pygments_lexer": "java",
   "version": "23.0.1+11-39"
  }
 },
 "nbformat": 4,
 "nbformat_minor": 2
}
