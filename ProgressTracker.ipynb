{
 "cells": [
  {
   "cell_type": "code",
   "execution_count": null,
   "metadata": {},
   "outputs": [
    {
     "data": {
      "image/png": "[encoded data removed]",
      "text/plain": [
       "<Figure size 600x600 with 1 Axes>"
      ]
     },
     "metadata": {},
     "output_type": "display_data"
    }
   ],
   "source": [
    "# Import libraries\n",
    "import matplotlib.pyplot as plt\n",
    "import seaborn as sns\n",
    "import pandas as pd\n",
    "\n",
    "# Data for coding problems\n",
    "data = {\n",
    "    'Status': ['Solved', 'In-Progress', 'Unsolved'],\n",
    "    'Count': [0, 0, 650]\n",
    "}\n",
    "\n",
    "# Convert to DataFrame\n",
    "df = pd.DataFrame(data)\n",
    "\n",
    "# Define colors for each status\n",
    "colors = ['#4CAF50', '#FFC107', '#F44336']  # Green, Yellow, Red\n",
    "\n",
    "# # Plot 1: Bar Chart\n",
    "# plt.figure(figsize=(8, 5))\n",
    "# sns.barplot(x='Status', y='Count', data=df, palette=colors)\n",
    "# plt.title('Coding Problems Progress', fontsize=16)\n",
    "# plt.xlabel('Status', fontsize=12)\n",
    "# plt.ylabel('Count', fontsize=12)\n",
    "# plt.xticks(fontsize=10)\n",
    "# plt.yticks(fontsize=10)\n",
    "# plt.grid(axis='y', linestyle='--', alpha=0.7)\n",
    "# plt.savefig('progress_bar_chart.png')  # Save chart as an image (optional)\n",
    "# plt.show()\n",
    "\n",
    "# Plot 2: Pie Chart\n",
    "plt.figure(figsize=(6, 6))\n",
    "plt.pie(df['Count'], labels=df['Status'], autopct='%1.1f%%', colors=colors, startangle=140)\n",
    "plt.title('Coding Problems Distribution', fontsize=16)\n",
    "# plt.savefig('progress_pie_chart.png')  # Save chart as an image (optional)\n",
    "plt.show()\n"
   ]
  },
  {
   "cell_type": "code",
   "execution_count": null,
   "metadata": {},
   "outputs": [
    {
     "name": "stdout",
     "output_type": "stream",
     "text": [
      "^C\n"
     ]
    },
    {
     "name": "stdout",
     "output_type": "stream",
     "text": [
      "Collecting matplotlib\n",
      "  Obtaining dependency information for matplotlib from https://files.pythonhosted.org/packages/33/97/40a1bed11f7817ba553afd2e7662e7364e3bac7ce4040835391eb558c86e/matplotlib-3.9.3-cp311-cp311-win_amd64.whl.metadata\n",
      "  Downloading matplotlib-3.9.3-cp311-cp311-win_amd64.whl.metadata (11 kB)\n",
      "Collecting seaborn\n",
      "  Obtaining dependency information for seaborn from https://files.pythonhosted.org/packages/83/11/00d3c3dfc25ad54e731d91449895a79e4bf2384dc3ac01809010ba88f6d5/seaborn-0.13.2-py3-none-any.whl.metadata\n",
      "  Downloading seaborn-0.13.2-py3-none-any.whl.metadata (5.4 kB)\n",
      "Requirement already satisfied: pandas in c:\\users\\hp\\appdata\\local\\programs\\python\\python311\\lib\\site-packages (2.2.3)\n",
      "Collecting contourpy>=1.0.1 (from matplotlib)\n",
      "  Obtaining dependency information for contourpy>=1.0.1 from https://files.pythonhosted.org/packages/a8/7e/cd93cab453720a5d6cb75588cc17dcdc08fc3484b9de98b885924ff61900/contourpy-1.3.1-cp311-cp311-win_amd64.whl.metadata\n",
      "  Downloading contourpy-1.3.1-cp311-cp311-win_amd64.whl.metadata (5.4 kB)\n",
      "Collecting cycler>=0.10 (from matplotlib)\n",
      "  Obtaining dependency information for cycler>=0.10 from https://files.pythonhosted.org/packages/e7/05/c19819d5e3d95294a6f5947fb9b9629efb316b96de511b418c53d245aae6/cycler-0.12.1-py3-none-any.whl.metadata\n",
      "  Downloading cycler-0.12.1-py3-none-any.whl.metadata (3.8 kB)\n",
      "Collecting fonttools>=4.22.0 (from matplotlib)\n",
      "  Obtaining dependency information for fonttools>=4.22.0 from https://files.pythonhosted.org/packages/86/b1/1198970a2b0ebccceae5fc8963e2e9c2a2aae23bd2f5a9be603dc3894f31/fonttools-4.55.2-cp311-cp311-win_amd64.whl.metadata\n",
      "  Downloading fonttools-4.55.2-cp311-cp311-win_amd64.whl.metadata (168 kB)\n",
      "     ---------------------------------------- 0.0/168.3 kB ? eta -:--:--\n",
      "     -- ------------------------------------- 10.2/168.3 kB ? eta -:--:--\n",
      "     ------ ------------------------------ 30.7/168.3 kB 660.6 kB/s eta 0:00:01\n",
      "     -------------------- ---------------- 92.2/168.3 kB 871.5 kB/s eta 0:00:01\n",
      "     -----------------------------------  163.8/168.3 kB 984.6 kB/s eta 0:00:01\n",
      "     ------------------------------------ 168.3/168.3 kB 919.1 kB/s eta 0:00:00\n",
      "Collecting kiwisolver>=1.3.1 (from matplotlib)\n",
      "  Obtaining dependency information for kiwisolver>=1.3.1 from https://files.pythonhosted.org/packages/a1/65/d43e9a20aabcf2e798ad1aff6c143ae3a42cf506754bcb6a7ed8259c8425/kiwisolver-1.4.7-cp311-cp311-win_amd64.whl.metadata\n",
      "  Downloading kiwisolver-1.4.7-cp311-cp311-win_amd64.whl.metadata (6.4 kB)\n",
      "Requirement already satisfied: numpy>=1.23 in c:\\users\\hp\\appdata\\local\\programs\\python\\python311\\lib\\site-packages (from matplotlib) (2.2.0)\n",
      "Requirement already satisfied: packaging>=20.0 in c:\\users\\hp\\appdata\\local\\programs\\python\\python311\\lib\\site-packages (from matplotlib) (24.2)\n",
      "Collecting pillow>=8 (from matplotlib)\n",
      "  Obtaining dependency information for pillow>=8 from https://files.pythonhosted.org/packages/dc/83/1470c220a4ff06cd75fc609068f6605e567ea51df70557555c2ab6516b2c/pillow-11.0.0-cp311-cp311-win_amd64.whl.metadata\n",
      "  Downloading pillow-11.0.0-cp311-cp311-win_amd64.whl.metadata (9.3 kB)\n",
      "Collecting pyparsing>=2.3.1 (from matplotlib)\n",
      "  Obtaining dependency information for pyparsing>=2.3.1 from https://files.pythonhosted.org/packages/be/ec/2eb3cd785efd67806c46c13a17339708ddc346cbb684eade7a6e6f79536a/pyparsing-3.2.0-py3-none-any.whl.metadata\n",
      "  Downloading pyparsing-3.2.0-py3-none-any.whl.metadata (5.0 kB)\n",
      "Requirement already satisfied: python-dateutil>=2.7 in c:\\users\\hp\\appdata\\local\\programs\\python\\python311\\lib\\site-packages (from matplotlib) (2.9.0.post0)\n",
      "Requirement already satisfied: pytz>=2020.1 in c:\\users\\hp\\appdata\\local\\programs\\python\\python311\\lib\\site-packages (from pandas) (2024.2)\n",
      "Requirement already satisfied: tzdata>=2022.7 in c:\\users\\hp\\appdata\\local\\programs\\python\\python311\\lib\\site-packages (from pandas) (2024.2)\n",
      "Requirement already satisfied: six>=1.5 in c:\\users\\hp\\appdata\\local\\programs\\python\\python311\\lib\\site-packages (from python-dateutil>=2.7->matplotlib) (1.17.0)\n",
      "Downloading matplotlib-3.9.3-cp311-cp311-win_amd64.whl (7.8 MB)\n",
      "   ---------------------------------------- 0.0/7.8 MB ? eta -:--:--\n",
      "   ---------------------------------------- 0.1/7.8 MB 2.6 MB/s eta 0:00:03"
     ]
    },
    {
     "name": "stderr",
     "output_type": "stream",
     "text": [
      "\n"
     ]
    },
    {
     "name": "stdout",
     "output_type": "stream",
     "text": [
      "\n"
     ]
    },
    {
     "name": "stderr",
     "output_type": "stream",
     "text": [
      "[notice] A new release of pip is available: 23.2.1 -> 24.3.1"
     ]
    },
    {
     "name": "stdout",
     "output_type": "stream",
     "text": [
      "   - -------------------------------------- 0.2/7.8 MB 2.5 MB/s eta 0:00:04"
     ]
    },
    {
     "name": "stderr",
     "output_type": "stream",
     "text": [
      "\n",
      "[notice] To update, run: python.exe -m pip install --upgrade pip"
     ]
    },
    {
     "name": "stdout",
     "output_type": "stream",
     "text": [
      "\n"
     ]
    },
    {
     "name": "stderr",
     "output_type": "stream",
     "text": [
      "\n"
     ]
    },
    {
     "name": "stdout",
     "output_type": "stream",
     "text": [
      "   - -------------------------------------- 0.3/7.8 MB 1.9 MB/s eta 0:00:04\n",
      "   -- ------------------------------------- 0.4/7.8 MB 2.2 MB/s eta 0:00:04\n",
      "   -- ------------------------------------- 0.5/7.8 MB 2.0 MB/s eta 0:00:04\n",
      "   --- ------------------------------------ 0.6/7.8 MB 2.2 MB/s eta 0:00:04\n",
      "   --- ------------------------------------ 0.7/7.8 MB 2.2 MB/s eta 0:00:04\n",
      "   ---- ----------------------------------- 0.8/7.8 MB 2.3 MB/s eta 0:00:04\n",
      "   ---- ----------------------------------- 0.9/7.8 MB 2.2 MB/s eta 0:00:04\n",
      "   ----- ---------------------------------- 1.0/7.8 MB 2.2 MB/s eta 0:00:04\n",
      "   ----- ---------------------------------- 1.2/7.8 MB 2.2 MB/s eta 0:00:03\n",
      "   ------ --------------------------------- 1.3/7.8 MB 2.3 MB/s eta 0:00:03\n",
      "   ------- -------------------------------- 1.5/7.8 MB 2.4 MB/s eta 0:00:03\n",
      "   ------- -------------------------------- 1.5/7.8 MB 2.4 MB/s eta 0:00:03\n",
      "   -------- ------------------------------- 1.6/7.8 MB 2.4 MB/s eta 0:00:03\n",
      "   --------- ------------------------------ 1.8/7.8 MB 2.5 MB/s eta 0:00:03\n",
      "   --------- ------------------------------ 2.0/7.8 MB 2.5 MB/s eta 0:00:03\n",
      "   ---------- ----------------------------- 2.1/7.8 MB 2.6 MB/s eta 0:00:03\n",
      "   ----------- ---------------------------- 2.3/7.8 MB 2.6 MB/s eta 0:00:03\n",
      "   ------------ --------------------------- 2.4/7.8 MB 2.6 MB/s eta 0:00:03\n",
      "   ------------- -------------------------- 2.6/7.8 MB 2.7 MB/s eta 0:00:02\n",
      "   -------------- ------------------------- 2.7/7.8 MB 2.7 MB/s eta 0:00:02\n",
      "   -------------- ------------------------- 2.9/7.8 MB 2.7 MB/s eta 0:00:02\n",
      "   --------------- ------------------------ 3.0/7.8 MB 2.7 MB/s eta 0:00:02\n",
      "   ---------------- ----------------------- 3.2/7.8 MB 2.8 MB/s eta 0:00:02\n",
      "   ----------------- ---------------------- 3.3/7.8 MB 2.8 MB/s eta 0:00:02\n",
      "   ------------------ --------------------- 3.6/7.8 MB 2.9 MB/s eta 0:00:02\n",
      "   ------------------- -------------------- 3.7/7.8 MB 2.9 MB/s eta 0:00:02\n",
      "   ------------------- -------------------- 3.9/7.8 MB 2.9 MB/s eta 0:00:02\n",
      "   -------------------- ------------------- 4.1/7.8 MB 2.9 MB/s eta 0:00:02\n",
      "   --------------------- ------------------ 4.3/7.8 MB 3.0 MB/s eta 0:00:02\n",
      "   ---------------------- ----------------- 4.5/7.8 MB 3.0 MB/s eta 0:00:02\n",
      "   ----------------------- ---------------- 4.6/7.8 MB 3.1 MB/s eta 0:00:02\n",
      "   ------------------------ --------------- 4.9/7.8 MB 3.1 MB/s eta 0:00:01\n",
      "   ------------------------- -------------- 5.0/7.8 MB 3.1 MB/s eta 0:00:01\n",
      "   --------------------------- ------------ 5.3/7.8 MB 3.2 MB/s eta 0:00:01\n",
      "   ---------------------------- ----------- 5.5/7.8 MB 3.2 MB/s eta 0:00:01\n",
      "   ----------------------------- ---------- 5.7/7.8 MB 3.2 MB/s eta 0:00:01\n",
      "   ----------------------------- ---------- 5.9/7.8 MB 3.2 MB/s eta 0:00:01\n",
      "   ------------------------------- -------- 6.1/7.8 MB 3.3 MB/s eta 0:00:01\n",
      "   -------------------------------- ------- 6.3/7.8 MB 3.3 MB/s eta 0:00:01\n",
      "   --------------------------------- ------ 6.5/7.8 MB 3.3 MB/s eta 0:00:01\n",
      "   ---------------------------------- ----- 6.7/7.8 MB 3.4 MB/s eta 0:00:01\n",
      "   ----------------------------------- ---- 7.0/7.8 MB 3.4 MB/s eta 0:00:01\n",
      "   ------------------------------------ --- 7.2/7.8 MB 3.5 MB/s eta 0:00:01\n",
      "   ------------------------------------- -- 7.4/7.8 MB 3.5 MB/s eta 0:00:01\n",
      "   ---------------------------------------  7.7/7.8 MB 3.5 MB/s eta 0:00:01\n",
      "   ---------------------------------------  7.8/7.8 MB 3.5 MB/s eta 0:00:01\n",
      "   ---------------------------------------  7.8/7.8 MB 3.5 MB/s eta 0:00:01\n",
      "   ---------------------------------------- 7.8/7.8 MB 3.4 MB/s eta 0:00:00\n",
      "Downloading seaborn-0.13.2-py3-none-any.whl (294 kB)\n",
      "   ---------------------------------------- 0.0/294.9 kB ? eta -:--:--\n",
      "   ------------------- -------------------- 143.4/294.9 kB 8.3 MB/s eta 0:00:01\n",
      "   ---------------------------------------- 294.9/294.9 kB 4.5 MB/s eta 0:00:00\n",
      "Downloading contourpy-1.3.1-cp311-cp311-win_amd64.whl (219 kB)\n",
      "   ---------------------------------------- 0.0/219.8 kB ? eta -:--:--\n",
      "   ---------------------------------------  215.0/219.8 kB 4.4 MB/s eta 0:00:01\n",
      "   ---------------------------------------- 219.8/219.8 kB 3.3 MB/s eta 0:00:00\n",
      "Downloading cycler-0.12.1-py3-none-any.whl (8.3 kB)\n",
      "Downloading fonttools-4.55.2-cp311-cp311-win_amd64.whl (2.2 MB)\n",
      "   ---------------------------------------- 0.0/2.2 MB ? eta -:--:--\n",
      "   --- ------------------------------------ 0.2/2.2 MB 5.6 MB/s eta 0:00:01\n",
      "   ------- -------------------------------- 0.4/2.2 MB 5.1 MB/s eta 0:00:01\n",
      "   ---------- ----------------------------- 0.6/2.2 MB 4.8 MB/s eta 0:00:01\n",
      "   -------------- ------------------------- 0.8/2.2 MB 4.6 MB/s eta 0:00:01\n",
      "   ----------------- ---------------------- 1.0/2.2 MB 4.4 MB/s eta 0:00:01\n",
      "   --------------------- ------------------ 1.2/2.2 MB 4.5 MB/s eta 0:00:01\n",
      "   -------------------------- ------------- 1.4/2.2 MB 4.6 MB/s eta 0:00:01\n",
      "   ---------------------------- ----------- 1.6/2.2 MB 4.5 MB/s eta 0:00:01\n",
      "   --------------------------------- ------ 1.8/2.2 MB 4.5 MB/s eta 0:00:01\n",
      "   ---------------------------------------  2.2/2.2 MB 4.8 MB/s eta 0:00:01\n",
      "   ---------------------------------------- 2.2/2.2 MB 4.5 MB/s eta 0:00:00\n",
      "Downloading kiwisolver-1.4.7-cp311-cp311-win_amd64.whl (56 kB)\n",
      "   ---------------------------------------- 0.0/56.0 kB ? eta -:--:--\n",
      "   ---------------------------------------- 56.0/56.0 kB 2.9 MB/s eta 0:00:00\n",
      "Downloading pillow-11.0.0-cp311-cp311-win_amd64.whl (2.6 MB)\n",
      "   ---------------------------------------- 0.0/2.6 MB ? eta -:--:--\n",
      "   -- ------------------------------------- 0.2/2.6 MB 5.3 MB/s eta 0:00:01\n",
      "   ----- ---------------------------------- 0.3/2.6 MB 4.2 MB/s eta 0:00:01\n",
      "   ------- -------------------------------- 0.5/2.6 MB 4.5 MB/s eta 0:00:01\n",
      "   ---------- ----------------------------- 0.7/2.6 MB 4.6 MB/s eta 0:00:01\n",
      "   ---------- ----------------------------- 0.7/2.6 MB 4.6 MB/s eta 0:00:01\n",
      "   ---------- ----------------------------- 0.7/2.6 MB 4.6 MB/s eta 0:00:01\n",
      "   ----------- ---------------------------- 0.7/2.6 MB 2.3 MB/s eta 0:00:01\n",
      "   ---------------- ----------------------- 1.1/2.6 MB 3.0 MB/s eta 0:00:01\n",
      "   ----------------------- ---------------- 1.5/2.6 MB 3.7 MB/s eta 0:00:01\n",
      "   --------------------------- ------------ 1.8/2.6 MB 3.9 MB/s eta 0:00:01\n",
      "   ----------------------------- ---------- 1.9/2.6 MB 3.9 MB/s eta 0:00:01\n",
      "   --------------------------------- ------ 2.1/2.6 MB 4.0 MB/s eta 0:00:01\n",
      "   ------------------------------------- -- 2.4/2.6 MB 4.0 MB/s eta 0:00:01\n",
      "   ---------------------------------------- 2.6/2.6 MB 4.1 MB/s eta 0:00:00\n",
      "Downloading pyparsing-3.2.0-py3-none-any.whl (106 kB)\n",
      "   ---------------------------------------- 0.0/106.9 kB ? eta -:--:--\n",
      "   ---------------------------------------- 106.9/106.9 kB 3.1 MB/s eta 0:00:00\n",
      "Installing collected packages: pyparsing, pillow, kiwisolver, fonttools, cycler, contourpy, matplotlib, seaborn\n",
      "Successfully installed contourpy-1.3.1 cycler-0.12.1 fonttools-4.55.2 kiwisolver-1.4.7 matplotlib-3.9.3 pillow-11.0.0 pyparsing-3.2.0 seaborn-0.13.2\n"
     ]
    }
   ],
   "source": [
    "pip install matplotlib seaborn pandas\n"
   ]
  }
 ],
 "metadata": {
  "kernelspec": {
   "display_name": "Python 3",
   "language": "python",
   "name": "python3"
  },
  "language_info": {
   "codemirror_mode": {
    "name": "ipython",
    "version": 3
   },
   "file_extension": ".py",
   "mimetype": "text/x-python",
   "name": "python",
   "nbconvert_exporter": "python",
   "pygments_lexer": "ipython3",
   "version": "3.11.5"
  }
 },
 "nbformat": 4,
 "nbformat_minor": 2
}
